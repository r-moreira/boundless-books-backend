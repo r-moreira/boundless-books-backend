{
 "cells": [
  {
   "cell_type": "code",
   "execution_count": 43,
   "metadata": {},
   "outputs": [],
   "source": [
    "#%pip install epub-metadata\n",
    "#%pip install imagekitio"
   ]
  },
  {
   "cell_type": "code",
   "execution_count": 44,
   "metadata": {},
   "outputs": [
    {
     "data": {
      "text/plain": [
       "True"
      ]
     },
     "execution_count": 44,
     "metadata": {},
     "output_type": "execute_result"
    }
   ],
   "source": [
    "import epub_metadata\n",
    "import base64\n",
    "import os\n",
    "import json\n",
    "from PIL import Image\n",
    "from io import BytesIO\n",
    "from dotenv import load_dotenv\n",
    "from imagekitio import ImageKit\n",
    "from imagekitio.models.UploadFileRequestOptions import UploadFileRequestOptions\n",
    "from bs4 import BeautifulSoup\n",
    "from time import sleep\n",
    "load_dotenv(\"./.env\")"
   ]
  },
  {
   "cell_type": "code",
   "execution_count": 45,
   "metadata": {},
   "outputs": [],
   "source": [
    "imagekit = ImageKit(\n",
    "    private_key=os.getenv('IMAGEKIT_PRIVATE_KEY'),\n",
    "    public_key='public_8BuiQ9jYB1nLhO/S5XsdphxpnOY=',\n",
    "    url_endpoint='https://ik.imagekit.io/boundlessbooks'\n",
    ")"
   ]
  },
  {
   "cell_type": "code",
   "execution_count": null,
   "metadata": {},
   "outputs": [],
   "source": [
    "EPUB_IN_DIR = os.path.join(os.getcwd(), \"data/in/epubs\")\n",
    "COVER_OUT_DIR = os.path.join(os.getcwd(), \"data/out/covers\")\n",
    "METADATA_FILE_NAME = 'books_metadata'"
   ]
  },
  {
   "cell_type": "code",
   "execution_count": 47,
   "metadata": {},
   "outputs": [],
   "source": [
    "def get_epub_files() -> list:\n",
    "    all_files = os.listdir(EPUB_IN_DIR)\n",
    "    epub_files = [os.path.join(EPUB_IN_DIR, f) for f in all_files if f.lower().endswith('.epub')]\n",
    "    return epub_files\n",
    "\n",
    "def get_metadata_from_epub(epub: epub_metadata.epub) -> dict:\n",
    "    metadata = {\n",
    "        \"title\": \"\",\n",
    "        \"author\": \"\",\n",
    "        \"publisher\": \"\",\n",
    "        \"category\": \"\",\n",
    "        \"synopsis\": \"\",\n",
    "        \"releaseDate\": \"1970/01/01\",\n",
    "        \"pages\": -1,\n",
    "        \"coverImageUrl\": \"\",\n",
    "        \"epubUrl\": \"\"\n",
    "    }\n",
    "    metadata[\"title\"] = epub.metadata.title\n",
    "    metadata[\"author\"] = epub.metadata.creator\n",
    "    metadata[\"publisher\"] = epub.metadata.publisher\n",
    "\n",
    "    description_html = epub.metadata.description\n",
    "    soup = BeautifulSoup(description_html, 'html.parser')\n",
    "    metadata[\"synopsis\"] = soup.get_text()\n",
    "    \n",
    "    return metadata\n",
    "\n",
    "def save_cover_image_from_epub(epub: epub_metadata.epub) -> str:\n",
    "    cover_base64 = epub.metadata.cover\n",
    "    cover_data = base64.b64decode(cover_base64)\n",
    "    cover_image = Image.open(BytesIO(cover_data))\n",
    "    cover_image_name = f\"{epub.metadata.title} - {epub.metadata.creator}_cover.jpeg\"\n",
    "    cover_image.save(f'{COVER_OUT_DIR}/{cover_image_name}')\n",
    "\n",
    "    print(f\"Cover image saved at {COVER_OUT_DIR}/{cover_image_name}\")\n",
    "    \n",
    "    return cover_image_name\n",
    "\n",
    "def upload_cover_image_to_imagekit(cover_image_name: str) -> str:\n",
    "    options = UploadFileRequestOptions(\n",
    "        folder='/cover-images',\n",
    "        is_private_file=False,\n",
    "        overwrite_file=True,\n",
    "        is_published=True\n",
    "    )\n",
    "\n",
    "    file = open(f'{COVER_OUT_DIR}/{cover_image_name}', 'rb')\n",
    "\n",
    "    result = imagekit.upload_file(file=file, file_name='cover.jpg', options=options)\n",
    "\n",
    "    print(f\"Cover image uploaded to ImageKit at {result.url}\")\n",
    "    \n",
    "    return result.url\n",
    "\n",
    "def upload_epub_to_imagekit(epub_file: str) -> str:\n",
    "    options = UploadFileRequestOptions(\n",
    "        folder='/epubs',\n",
    "        use_unique_file_name=True,\n",
    "        is_private_file=False,\n",
    "        overwrite_file=True,\n",
    "        is_published=True\n",
    "    )\n",
    "\n",
    "    file = open(f'{epub_file}', 'rb')\n",
    "\n",
    "    result = imagekit.upload_file(file=file, file_name='epub.epub', options=options)\n",
    "\n",
    "    print(f\"EPUB file uploaded to ImageKit at {result.url}\")\n",
    "    \n",
    "    return result.url\n",
    "\n",
    "def process_epub(epub_file: str) -> dict:\n",
    "    epub = epub_metadata.epub(epub_file)\n",
    "    metadata = get_metadata_from_epub(epub)\n",
    "    cover_image_path = save_cover_image_from_epub(epub)\n",
    "    cover_image_url = upload_cover_image_to_imagekit(cover_image_path)\n",
    "    epub_file_url = upload_epub_to_imagekit(epub_file)\n",
    "    metadata[\"coverImageUrl\"] = cover_image_url\n",
    "    metadata[\"epubUrl\"] = epub_file_url\n",
    "    return metadata\n",
    "\n",
    "def process_epubs(epub_files: list) -> list:\n",
    "    metadata_list = []\n",
    "    for epub_file in epub_files:\n",
    "        metadata = process_epub(epub_file)\n",
    "        metadata_list.append(metadata)\n",
    "        sleep(1)\n",
    "    json.dump(metadata_list, open(f\"data/out/metadata/{METADATA_FILE_NAME}.json\", \"w\"), indent=4, ensure_ascii=False)\n",
    "    return metadata_list"
   ]
  },
  {
   "cell_type": "code",
   "execution_count": 48,
   "metadata": {},
   "outputs": [
    {
     "name": "stdout",
     "output_type": "stream",
     "text": [
      "Cover image saved at /Users/rodrigo/Dev/infnet/extension/boundless-books/notebook/data/out/covers/Cinquenta Tons Mais Escuros - vol.2 - E.L. James_cover.jpeg\n",
      "Cover image uploaded to ImageKit at https://ik.imagekit.io/boundlessbooks/cover-images/cover_yuwWgHj94.jpg\n",
      "EPUB file uploaded to ImageKit at https://ik.imagekit.io/boundlessbooks/epubs/epub_MJaJnn3I98.epub\n",
      "Cover image saved at /Users/rodrigo/Dev/infnet/extension/boundless-books/notebook/data/out/covers/Cinquenta Tons de Cinza - E L James_cover.jpeg\n",
      "Cover image uploaded to ImageKit at https://ik.imagekit.io/boundlessbooks/cover-images/cover_kb2HVA-OO.jpg\n",
      "EPUB file uploaded to ImageKit at https://ik.imagekit.io/boundlessbooks/epubs/epub_N3rAKXoY4.epub\n",
      "Cover image saved at /Users/rodrigo/Dev/infnet/extension/boundless-books/notebook/data/out/covers/Cinquenta Tons De Liberdade - vol.3 - E.L. James_cover.jpeg\n",
      "Cover image uploaded to ImageKit at https://ik.imagekit.io/boundlessbooks/cover-images/cover_hlNU0wXSD.jpg\n",
      "EPUB file uploaded to ImageKit at https://ik.imagekit.io/boundlessbooks/epubs/epub_Os_yWK6f1.epub\n"
     ]
    },
    {
     "data": {
      "text/plain": [
       "[{'title': 'Cinquenta Tons Mais Escuros - vol.2',\n",
       "  'author': 'E.L. James',\n",
       "  'publisher': 'Top Livros',\n",
       "  'category': '',\n",
       "  'synopsis': '',\n",
       "  'releaseDate': '1970/01/01',\n",
       "  'pages': -1,\n",
       "  'coverImageUrl': 'https://ik.imagekit.io/boundlessbooks/cover-images/cover_yuwWgHj94.jpg',\n",
       "  'epubUrl': 'https://ik.imagekit.io/boundlessbooks/epubs/epub_MJaJnn3I98.epub'},\n",
       " {'title': 'Cinquenta Tons de Cinza',\n",
       "  'author': 'E L James',\n",
       "  'publisher': 'LeLivros.com',\n",
       "  'category': '',\n",
       "  'synopsis': 'by\\xa0LeLivros.comQuando Anastasia Steele entrevista o jovem empresário Christian Grey, descobre nele um homem atraente, brilhante e profundamente dominador. Ingênua e inocente, Ana se surpreende ao perceber que, a despeito da enigmática reserva de Grey, está desesperadamente atraída por ele. Incapaz de resistir à beleza discreta, à timidez e ao espírito independente de Ana, Grey admite que também a deseja - mas em seu próprios termos...',\n",
       "  'releaseDate': '1970/01/01',\n",
       "  'pages': -1,\n",
       "  'coverImageUrl': 'https://ik.imagekit.io/boundlessbooks/cover-images/cover_kb2HVA-OO.jpg',\n",
       "  'epubUrl': 'https://ik.imagekit.io/boundlessbooks/epubs/epub_N3rAKXoY4.epub'},\n",
       " {'title': 'Cinquenta Tons De Liberdade - vol.3',\n",
       "  'author': 'E.L. James',\n",
       "  'publisher': 'Top Livros',\n",
       "  'category': '',\n",
       "  'synopsis': '',\n",
       "  'releaseDate': '1970/01/01',\n",
       "  'pages': -1,\n",
       "  'coverImageUrl': 'https://ik.imagekit.io/boundlessbooks/cover-images/cover_hlNU0wXSD.jpg',\n",
       "  'epubUrl': 'https://ik.imagekit.io/boundlessbooks/epubs/epub_Os_yWK6f1.epub'}]"
      ]
     },
     "execution_count": 48,
     "metadata": {},
     "output_type": "execute_result"
    }
   ],
   "source": [
    "process_epubs(get_epub_files())"
   ]
  }
 ],
 "metadata": {
  "kernelspec": {
   "display_name": "3.11.9",
   "language": "python",
   "name": "python3"
  },
  "language_info": {
   "codemirror_mode": {
    "name": "ipython",
    "version": 3
   },
   "file_extension": ".py",
   "mimetype": "text/x-python",
   "name": "python",
   "nbconvert_exporter": "python",
   "pygments_lexer": "ipython3",
   "version": "3.11.9"
  }
 },
 "nbformat": 4,
 "nbformat_minor": 2
}
